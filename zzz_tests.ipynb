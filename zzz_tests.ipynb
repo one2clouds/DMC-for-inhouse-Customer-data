{
 "cells": [
  {
   "cell_type": "code",
   "execution_count": null,
   "id": "d45aeec0",
   "metadata": {},
   "outputs": [],
   "source": [
    "import matplotlib.pyplot as plt \n",
    "from mpl_toolkits.mplot3d import Axes3D\n",
    "import numpy as np \n",
    "import open3d as o3d\n",
    "import plotly.graph_objects as go"
   ]
  },
  {
   "cell_type": "code",
   "execution_count": null,
   "id": "57ddf6ac",
   "metadata": {},
   "outputs": [],
   "source": [
    "# points = np.load(\"/home/shirshak/DMC/Results-pointr/01A91JH6predsap.npy\")\n",
    "# pred_pcd3 = o3d.geometry.PointCloud()\n",
    "# pred_pcd3.points = o3d.utility.Vector3dVector(points)\n",
    "\n",
    "# o3d.visualization.draw_plotly([pred_pcd3])\n",
    "\n",
    "# print(len(pred_pcd3.points))"
   ]
  },
  {
   "cell_type": "code",
   "execution_count": null,
   "id": "807e6918",
   "metadata": {},
   "outputs": [],
   "source": [
    "# gt_pcd1 = o3d.io.read_point_cloud(\"/home/shirshak/PoinTr/zzz_visualizations/gt/gt_0.pcd\")\n",
    "# input_partial_pcd2 = o3d.io.read_point_cloud(\"/home/shirshak/PoinTr/zzz_visualizations/input_partial_2048/input_partial_2048_0.pcd\")\n",
    "# pred_pcd3 = o3d.io.read_point_cloud(\"/home/shirshak/PoinTr/zzz_visualizations/pred/pred_0.pcd\")\n",
    "\n",
    "# gt_pcd1.translate([1, 0, 0])\n",
    "# pred_pcd3.translate([-1, 0, 0]) \n",
    "\n",
    "# o3d.visualization.draw_plotly([gt_pcd1, input_partial_pcd2, pred_pcd3])"
   ]
  },
  {
   "cell_type": "code",
   "execution_count": null,
   "id": "be3f6b55",
   "metadata": {},
   "outputs": [],
   "source": [
    "# input_partial_pcd2 = o3d.io.read_point_cloud(\"/home/shirshak/DMC/data/data_npy/01A91JH6/individual_01A91JH6_shell.pcd\")\n",
    "\n",
    "# points = np.load(\"/home/shirshak/DMC/Results-pointr/01A91JH6pred.npy\")\n",
    "# pred_pcd3 = o3d.geometry.PointCloud()\n",
    "# pred_pcd3.points = o3d.utility.Vector3dVector(points)\n",
    "\n",
    "# input_partial_pcd2.paint_uniform_color([1, 0, 0])\n",
    "\n",
    "# pred_pcd3.paint_uniform_color([0, 1, 0])\n",
    "\n",
    "# # Translate one to avoid overlap\n",
    "# pred_pcd3.translate([-1.5, 0, 0])\n",
    "\n",
    "# input_partial_pcd2.translate([1.5, 0, 0])\n",
    "\n",
    "# # Visualize\n",
    "# o3d.visualization.draw_plotly([input_partial_pcd2, pred_pcd3])"
   ]
  },
  {
   "cell_type": "code",
   "execution_count": null,
   "id": "a463cd6a",
   "metadata": {},
   "outputs": [],
   "source": [
    "# input_partial_pcd2 = o3d.io.read_point_cloud(\"/home/shirshak/DMC/data/data_npy/2018-11-12_00001-009_2018-11-12_00001-009/2018-11-12_00001-009_2018-11-12_00001-009_shell.pcd\")\n",
    "input_partial_pcd2 = o3d.io.read_point_cloud(\"/home/shirshak/DMC/data/data_npy/pdf_14c_20220629_102535_ITERO(100016728)/pdf_14c_20220629_102535_ITERO(100016728)_shell.pcd\")\n",
    "\n",
    "# print(len(input_partial_pcd2.points))\n",
    "# input_partial_pcd2 = input_partial_pcd2.uniform_down_sample(every_k_points=2)\n",
    "# print(len(input_partial_pcd2.points))\n",
    "\n",
    "\n",
    "\n",
    "# pred_pcd3 = o3d.io.read_point_cloud(\"/home/shirshak/DMC/data/data_npy/01A91JH6/individual_01A91JH6_shell.pcd\")\n",
    "\n",
    "\n",
    "\n",
    "# /home/shirshak/DMC/Results-pointr/20240718_131056_ITERO(169483943)_3pred.npy\n",
    "\n",
    "# points = np.load(\"/home/shirshak/DMC/Results-pointr/2018-11-22_00010-010_2018-11-22_00010-010pred.npy\")\n",
    "points = np.load(\"/home/shirshak/DMC/Results-pointr/pdf_14c_20220629_102535_ITERO(100016728)pred.npy\")\n",
    "pred_pcd3 = o3d.geometry.PointCloud()\n",
    "pred_pcd3.points = o3d.utility.Vector3dVector(points)\n",
    "\n",
    "print(len(pred_pcd3.points))\n",
    "\n",
    "# o3d.visualization.draw_plotly([pred_pcd3])\n",
    "\n",
    "input_partial_pcd2.paint_uniform_color([1, 0, 0])\n",
    "\n",
    "pred_pcd3.paint_uniform_color([0, 1, 0])\n",
    "\n",
    "# # Translate one to avoid overlap\n",
    "# pred_pcd3.translate([3.5, 0, 0])\n",
    "\n",
    "# input_partial_pcd2.translate([-3.5, 0, 0])\n",
    "\n",
    "# 1568"
   ]
  },
  {
   "cell_type": "code",
   "execution_count": null,
   "id": "54631748",
   "metadata": {},
   "outputs": [],
   "source": [
    "# # Visualize\n",
    "o3d.visualization.draw_plotly([input_partial_pcd2])\n",
    "\n",
    "\n",
    "o3d.visualization.draw_plotly([pred_pcd3])"
   ]
  },
  {
   "cell_type": "code",
   "execution_count": null,
   "metadata": {},
   "outputs": [],
   "source": [
    "points1 = np.asarray(input_partial_pcd2.points)\n",
    "points2 = np.asarray(pred_pcd3.points)\n",
    "\n",
    "# Create Plotly figure\n",
    "fig = go.Figure()\n",
    "\n",
    "# Add first point cloud (red)\n",
    "fig.add_trace(go.Scatter3d(\n",
    "    x=points1[:, 0] + 3, y=points1[:, 1], z=points1[:, 2],\n",
    "    mode='markers',\n",
    "    marker=dict(size=5, color='red'),\n",
    "    name='Ground Truth'\n",
    "))\n",
    "fig.show()"
   ]
  },
  {
   "cell_type": "code",
   "execution_count": null,
   "id": "34e3ac06",
   "metadata": {},
   "outputs": [],
   "source": [
    "# Add second point cloud (green)\n",
    "fig = go.Figure()\n",
    "\n",
    "fig.add_trace(go.Scatter3d(\n",
    "    x=points2[:, 0] - 3, y=points2[:, 1], z=points2[:, 2],\n",
    "    mode='markers',\n",
    "    marker=dict(size=5, color='green'),\n",
    "    name='Prediction'\n",
    "))\n",
    "\n",
    "fig.show()"
   ]
  },
  {
   "cell_type": "code",
   "execution_count": null,
   "id": "efe19eb4",
   "metadata": {},
   "outputs": [],
   "source": [
    "# pred_pcd3 = pred_pcd3.uniform_down_sample(every_k_points=30)\n",
    "# print(len(pred_pcd3.points))\n",
    "\n",
    "\n",
    "pred_pcd3.estimate_normals()\n",
    "\n",
    "mesh, densities = o3d.geometry.TriangleMesh.create_from_point_cloud_poisson(pred_pcd3, depth=9)\n",
    "\n",
    "# vertices_to_remove = densities < np.quantile(densities, 0.01)\n",
    "# mesh.remove_vertices_by_mask(vertices_to_remove)\n",
    "\n",
    "o3d.visualization.draw_plotly([mesh])"
   ]
  },
  {
   "cell_type": "code",
   "execution_count": null,
   "id": "084cfbf6",
   "metadata": {},
   "outputs": [],
   "source": [
    "input_partial_pcd2.estimate_normals()\n",
    "\n",
    "mesh, densities = o3d.geometry.TriangleMesh.create_from_point_cloud_poisson(input_partial_pcd2, depth=9)\n",
    "\n",
    "\n",
    "o3d.visualization.draw_plotly([mesh])"
   ]
  },
  {
   "cell_type": "code",
   "execution_count": null,
   "id": "3bcc2a7f",
   "metadata": {},
   "outputs": [],
   "source": []
  }
 ],
 "metadata": {
  "kernelspec": {
   "display_name": ".venv",
   "language": "python",
   "name": "python3"
  },
  "language_info": {
   "codemirror_mode": {
    "name": "ipython",
    "version": 3
   },
   "file_extension": ".py",
   "mimetype": "text/x-python",
   "name": "python",
   "nbconvert_exporter": "python",
   "pygments_lexer": "ipython3",
   "version": "3.10.12"
  }
 },
 "nbformat": 4,
 "nbformat_minor": 5
}
