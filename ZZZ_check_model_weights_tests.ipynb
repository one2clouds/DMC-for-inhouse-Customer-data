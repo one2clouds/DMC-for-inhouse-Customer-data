{
 "cells": [
  {
   "cell_type": "code",
   "execution_count": 1,
   "id": "fd5354e3",
   "metadata": {},
   "outputs": [],
   "source": [
    "import os \n",
    "import torch \n",
    "from utils.logger import print_log"
   ]
  },
  {
   "cell_type": "code",
   "execution_count": null,
   "id": "a254c2c6",
   "metadata": {},
   "outputs": [],
   "source": [
    "def resume_model(base_model, args, logger = None):\n",
    "    ckpt_path = os.path.join(args.experiment_path, 'ckpt-last.pth')\n",
    "    if not os.path.exists(ckpt_path):\n",
    "        print_log(f'[RESUME INFO] no checkpoint file from path {ckpt_path}...', logger = logger)\n",
    "        return 0, 0\n",
    "    print_log(f'[RESUME INFO] Loading model weights from {ckpt_path}...', logger = logger )\n",
    "\n",
    "    # load state dict\n",
    "    map_location = {'cuda:%d' % 0: 'cuda:%d' % args.local_rank}\n",
    "    state_dict = torch.load(ckpt_path, map_location=map_location)\n",
    "    # parameter resume of base model\n",
    "    # if args.local_rank == 0:\n",
    "    base_ckpt = {k.replace(\"module.\", \"\"): v for k, v in state_dict['base_model'].items()}\n",
    "    base_model.load_state_dict(base_ckpt)\n",
    "\n",
    "    # parameter\n",
    "    start_epoch = state_dict['epoch'] + 1\n",
    "    best_metrics = state_dict['best_metrics']\n",
    "    if not isinstance(best_metrics, dict):\n",
    "        best_metrics = best_metrics.state_dict()\n",
    "    # print(best_metrics)\n",
    "\n",
    "    print_log(f'[RESUME INFO] resume ckpts @ {start_epoch - 1} epoch( best_metrics = {str(best_metrics):s})', logger = logger)\n",
    "    return start_epoch, best_metrics"
   ]
  },
  {
   "cell_type": "code",
   "execution_count": null,
   "id": "8d1c9c72",
   "metadata": {},
   "outputs": [],
   "source": [
    "resume_model()"
   ]
  },
  {
   "cell_type": "code",
   "execution_count": null,
   "id": "a8875eea",
   "metadata": {},
   "outputs": [],
   "source": []
  },
  {
   "cell_type": "code",
   "execution_count": null,
   "metadata": {},
   "outputs": [],
   "source": []
  },
  {
   "cell_type": "code",
   "execution_count": null,
   "metadata": {},
   "outputs": [],
   "source": []
  }
 ],
 "metadata": {
  "kernelspec": {
   "display_name": ".venv",
   "language": "python",
   "name": "python3"
  },
  "language_info": {
   "codemirror_mode": {
    "name": "ipython",
    "version": 3
   },
   "file_extension": ".py",
   "mimetype": "text/x-python",
   "name": "python",
   "nbconvert_exporter": "python",
   "pygments_lexer": "ipython3",
   "version": "3.10.12"
  }
 },
 "nbformat": 4,
 "nbformat_minor": 5
}
